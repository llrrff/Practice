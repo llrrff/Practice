{
  "nbformat": 4,
  "nbformat_minor": 0,
  "metadata": {
    "colab": {
      "name": "FleetFileTest.ipynb",
      "version": "0.3.2",
      "provenance": [],
      "collapsed_sections": [],
      "toc_visible": true,
      "include_colab_link": true
    },
    "kernelspec": {
      "name": "python3",
      "display_name": "Python 3"
    }
  },
  "cells": [
    {
      "cell_type": "markdown",
      "metadata": {
        "id": "view-in-github",
        "colab_type": "text"
      },
      "source": [
        "[View in Colaboratory](https://colab.research.google.com/github/llrrff/Practice/blob/master/FleetFileTest.ipynb)"
      ]
    },
    {
      "metadata": {
        "id": "igL7DqRU6mPH",
        "colab_type": "code",
        "colab": {
          "base_uri": "https://localhost:8080/",
          "height": 306
        },
        "outputId": "faef3594-5531-42d0-81cc-56db50e198af"
      },
      "cell_type": "code",
      "source": [
        "\n",
        "!apt-get install -y -qq software-properties-common python-software-properties module-init-tools\n",
        "!add-apt-repository -y ppa:alessandro-strada/ppa 2>&1 > /dev/null\n",
        "!apt-get update -qq 2>&1 > /dev/null\n",
        "!apt-get -y install -qq google-drive-ocamlfuse fuse\n",
        "from google.colab import auth\n",
        "auth.authenticate_user()\n",
        "from oauth2client.client import GoogleCredentials\n",
        "creds = GoogleCredentials.get_application_default()\n",
        "import getpass\n",
        "!google-drive-ocamlfuse -headless -id={creds.client_id} -secret={creds.client_secret} < /dev/null 2>&1 | grep URL\n",
        "vcode = getpass.getpass()\n",
        "!echo {vcode} | google-drive-ocamlfuse -headless -id={creds.client_id} -secret={creds.client_secret}\n",
        "\n",
        "#!ls\n",
        "!mkdir -p drive\n",
        "!google-drive-ocamlfuse drive\n",
        "\n",
        "!pwd\n",
        "#!ls\n",
        "#!ls \"drive/Works/Maersk/FleetFiles\"\n",
        "\n",
        "#aLine=\"MSK           AAAU2003350C20DR86    2200   30500MSK0S            NNNNMCC                 22G1\"\n",
        "#aLines=[\"MSK           AAAU2003350C20DR86    2200   30500MSK0S            NNNNMCC                 22G1\",\n",
        "#       \"MSK           AACU5018329C40DR96    3700   33500MSK0S            NNNNSCL                 45G1\",\n",
        "#       \"MSK           AACU5027402C40DR96    3700   33500MSK0S            NNNNMSK                 45G1\",\n",
        "#       \"MSK           AACU5050640C40DR96    3700   33500MSK0S            NNNNSCL                 45G1\",\n",
        "#       \"MSK           AATC400008 Z40CH      2948   33484MSK2             NNNNMSK                 9999\",\n",
        "#       \"MSK           AAMU7003082C20TK86    1361   33500MSK0S            NNNNMSK                 22T0\"]\n",
        "\n",
        "\n",
        "#f1 = open(\"test_input.txt\", \"r\", encoding=\"utf-8\")\n",
        "f1 = open('drive/Works/Maersk/FleetFiles/FLTFILNEWN_20180820.TXT', \"r\", encoding=\"utf-8\")\n",
        "\n",
        "fo1 = open(\"fleetOutput1_20180820.txt\", \"w\", encoding=\"utf-8\")\n",
        "fo2 = open(\"fleetOutput2_20180820.txt\", \"w\", encoding=\"utf-8\")\n",
        "fo3 = open(\"fleetOutput3_20180820.txt\", \"w\", encoding=\"utf-8\")\n",
        "fo4 = open(\"fleetOutput4_20180820.txt\", \"w\", encoding=\"utf-8\")\n",
        "fo5 = open(\"fleetOutput5_20180820.txt\", \"w\", encoding=\"utf-8\")\n",
        "\n",
        "linecount=0\n",
        "filelist=[fo1,fo2,fo3,fo4,fo5]\n",
        "fileindex = 0\n",
        "\n",
        "while True:\n",
        "  line = f1.readline()\n",
        "  if line:\n",
        "    indicator=line[25:26]\n",
        "    if (indicator==\"C\"):\n",
        "      linecount=linecount+1\n",
        "      if(linecount<=900000):\n",
        "        fo1.write(line)\n",
        "      elif(linecount>900000 and linecount<=1800000):\n",
        "        fo2.write(line)\n",
        "      elif(linecount>1800000 and linecount<=2700000):\n",
        "        fo3.write(line)\n",
        "      elif(linecount>2700000 and linecount<=3600000):\n",
        "        fo4.write(line)\n",
        "      else:\n",
        "        fo5.write(line)\n",
        "  else:\n",
        "    print(linecount)\n",
        "    break\n",
        "  \n",
        "\n",
        "f1.close()\n",
        "fo1.close()\n",
        "fo2.close()\n",
        "fo3.close()\n",
        "fo4.close()\n",
        "fo5.close()\n",
        "\n",
        "print(\"done\")\n",
        "\n"
      ],
      "execution_count": 7,
      "outputs": [
        {
          "output_type": "stream",
          "text": [
            "gpg: keybox '/tmp/tmpa3gfc853/pubring.gpg' created\n",
            "gpg: /tmp/tmpa3gfc853/trustdb.gpg: trustdb created\n",
            "gpg: key AD5F235DF639B041: public key \"Launchpad PPA for Alessandro Strada\" imported\n",
            "gpg: Total number processed: 1\n",
            "gpg:               imported: 1\n",
            "Warning: apt-key output should not be parsed (stdout is not a terminal)\n",
            "··········\n",
            "adc.json  fleetOutput1.txt  fleetOutput3.txt  fleetOutput5.txt\n",
            "drive\t  fleetOutput2.txt  fleetOutput4.txt  sample_data\n",
            "fuse: mountpoint is not empty\n",
            "fuse: if you are sure this is safe, use the 'nonempty' mount option\n",
            "/content\n",
            "adc.json  fleetOutput1.txt  fleetOutput3.txt  fleetOutput5.txt\n",
            "drive\t  fleetOutput2.txt  fleetOutput4.txt  sample_data\n",
            "FLTFILNEWN_20180820.TXT  FLTFILNEWN_RKEM_20180821.zip\n",
            "3732611\n",
            "done\n"
          ],
          "name": "stdout"
        }
      ]
    }
  ]
}