{
  "nbformat": 4,
  "nbformat_minor": 0,
  "metadata": {
    "colab": {
      "name": "SomeLibFromGithub.ipynb",
      "version": "0.3.2",
      "provenance": [],
      "collapsed_sections": [],
      "toc_visible": true,
      "include_colab_link": true
    },
    "kernelspec": {
      "name": "python3",
      "display_name": "Python 3"
    }
  },
  "cells": [
    {
      "cell_type": "markdown",
      "metadata": {
        "id": "view-in-github",
        "colab_type": "text"
      },
      "source": [
        "[View in Colaboratory](https://colab.research.google.com/github/llrrff/Practice/blob/master/SomeLibFromGithub.ipynb)"
      ]
    },
    {
      "metadata": {
        "id": "yxgpm6D6sthc",
        "colab_type": "text"
      },
      "cell_type": "markdown",
      "source": [
        "爬虫"
      ]
    },
    {
      "metadata": {
        "id": "UowDFTZHY-Op",
        "colab_type": "code",
        "colab": {}
      },
      "cell_type": "code",
      "source": [
        "!rm -f download*\n",
        "\n",
        "#!pip install wget\n",
        "import wget\n",
        "wget.download(\"http://www.google.com\")\n",
        "\n",
        "\n",
        "from bs4 import BeautifulSoup\n",
        "soup = BeautifulSoup(open(\"download.wget\"))\n",
        "for link in soup.find_all('a'):\n",
        "  print(link.get('href'))\n"
      ],
      "execution_count": 0,
      "outputs": []
    },
    {
      "metadata": {
        "id": "_MujgIEeszmD",
        "colab_type": "code",
        "colab": {}
      },
      "cell_type": "code",
      "source": [
        "#!git clone git://github.com/pymc-devs/pymc.git\n",
        "\n",
        "  \n",
        "import pymc\n",
        "import numpy as np\n",
        "\n",
        "from pymc.examples import disaster_model\n",
        "from pymc import MCMC\n",
        "M = MCMC(disaster_model)\n",
        "M.sample(iter=10000, burn=1000, thin=10)\n"
      ],
      "execution_count": 0,
      "outputs": []
    },
    {
      "metadata": {
        "id": "oU00xxGtDXer",
        "colab_type": "code",
        "colab": {}
      },
      "cell_type": "code",
      "source": [
        "#!pip install itchat\n",
        "import itchat, time\n",
        "\n",
        "@itchat.msg_register(['Text', 'Map', 'Card', 'Note', 'Sharing'])\n",
        "def text_reply(msg):\n",
        "    itchat.send('%s: %s'%(msg['Type'], msg['Text']), msg['FromUserName'])\n",
        "\n",
        "@itchat.msg_register(['Picture', 'Recording', 'Attachment', 'Video'])\n",
        "def download_files(msg):\n",
        "    fileDir = '%s%s'%(msg['Type'], int(time.time()))\n",
        "    msg['Text'](fileDir)\n",
        "    itchat.send('%s received'%msg['Type'], msg['FromUserName'])\n",
        "    itchat.send('@%s@%s'%('img' if msg['Type'] == 'Picture' else 'fil', fileDir), msg['FromUserName'])\n",
        "\n",
        "@itchat.msg_register('Friends')\n",
        "def add_friend(msg):\n",
        "    itchat.add_friend(**msg['Text'])\n",
        "    itchat.get_contract()\n",
        "    itchat.send_msg(msg['RecommendInfo']['UserName'], 'Nice to meet you!')\n",
        "\n",
        "@itchat.msg_register('Text', isGroupChat = True)\n",
        "def text_reply(msg):\n",
        "    itchat.send(u'@%s\\u2005I received: %s'%(msg['ActualNickName'], msg['Content']), msg['FromUserName'])\n",
        "\n",
        "\n",
        "itchat.auto_login()\n",
        "itchat.run()\n",
        "\n"
      ],
      "execution_count": 0,
      "outputs": []
    },
    {
      "metadata": {
        "id": "5SvHJMdWEjeO",
        "colab_type": "code",
        "colab": {
          "base_uri": "https://localhost:8080/",
          "height": 887
        },
        "outputId": "d1b2bfbf-5110-458b-b74e-820e95f9906a"
      },
      "cell_type": "code",
      "source": [
        "#Web Crawler\n",
        "#爬虫例子\n",
        "\n",
        "\n",
        "import requests\n",
        "#import pymysql.cursors\n",
        "from bs4 import BeautifulSoup\n",
        "\n",
        "def get_effect_data(data):\n",
        "    results = list()\n",
        "    soup = BeautifulSoup(data, 'html.parser')\n",
        "    projects = soup.find_all('div', class_='repo-list-item')\n",
        "    for project in projects:\n",
        "        writer_project = project.find('a', attrs={'class': 'v-align-middle'})['href'].strip()\n",
        "        #project_language = project.find('div', attrs={'class': 'd-table-cell col-2 text-gray pt-2'}).get_text().strip()\n",
        "        project_language = project.find('div', attrs={'class': 'text-gray flex-auto min-width-0'}).get_text().strip()\n",
        "        project_starts = project.find('a', attrs={'class': 'muted-link'}).get_text().strip()\n",
        "        #update_desc = project.find('p', attrs={'class': 'f6 text-gray mb-0 mt-2'}).get_text().strip()\n",
        "        update_desc = project.find('p', attrs={'class': 'col-12 col-md-9 d-inline-block text-gray mb-2 pr-4'}).get_text().strip()\n",
        "\n",
        "        result = (writer_project.split('/')[1], writer_project.split('/')[2], project_language, project_starts, update_desc, '\\n')\n",
        "        results.append(result)\n",
        "        print(result)\n",
        "    return results\n",
        "\n",
        "\n",
        "def get_response_data(page):\n",
        "    request_url = 'https://github.com/search'\n",
        "    params = {'o': 'desc', 'q': 'python', 's': 'stars', 'type': 'Repositories', 'p': page}\n",
        "    resp = requests.get(request_url, params)\n",
        "    return resp.text\n",
        "\n",
        "\n",
        "\n",
        "\n",
        "if __name__ == '__main__':\n",
        "    total_page = 5 # 爬虫数据的总页数\n",
        "    datas = list()\n",
        "    for page in range(total_page):\n",
        "        res_data = get_response_data(page + 1)\n",
        "        data = get_effect_data(res_data)\n",
        "        datas += data\n",
        "    #insert_datas(datas)\n",
        "    #print(data)"
      ],
      "execution_count": 34,
      "outputs": [
        {
          "output_type": "stream",
          "text": [
            "('tensorflow', 'tensorflow', 'C++', '108k', 'Computation using data flow graphs for scalable machine learning', '\\n')\n",
            "('robbyrussell', 'oh-my-zsh', 'Shell', '75.5k', 'A delightful community-driven (with 1,100+ contributors) framework for managing your zsh configuration. Includes 200+…', '\\n')\n",
            "('vinta', 'awesome-python', 'Python', '54.5k', 'A curated list of awesome Python frameworks, libraries, software and resources', '\\n')\n",
            "('donnemartin', 'system-design-primer', 'Python', '24 issues\\n            need help', 'Learn how to design large-scale systems. Prep for the system design interview. Includes Anki flashcards.', '\\n')\n",
            "('pallets', 'flask', 'Python', '38.4k', 'The Python micro framework for building web applications.', '\\n')\n",
            "('justjavac', 'free-programming-books-zh_CN', 'JavaScript', '37.9k', '📚 免费的计算机编程类中文书籍，欢迎投稿', '\\n')\n",
            "('nvbn', 'thefuck', 'Python', '1 issue\\n            needs help', 'Magnificent app which corrects your previous console command.', '\\n')\n",
            "('jakubroztocil', 'httpie', 'Python', '36.6k', 'Modern command line HTTP client – user-friendly curl alternative with intuitive UI, JSON support, syntax highlighting…', '\\n')\n",
            "('django', 'django', 'Python', '36.1k', 'The Web framework for perfectionists with deadlines.', '\\n')\n",
            "('requests', 'requests', 'Python', '34.3k', 'Python HTTP Requests for Humans™ ✨🍰✨', '\\n')\n",
            "('keras-team', 'keras', 'Python', '10 issues\\n            need help', 'Deep Learning for humans', '\\n')\n",
            "('ansible', 'ansible', 'Python', '32.3k', 'Ansible is a radically simple IT automation platform that makes your applications and systems easier to deploy. Avoid…', '\\n')\n",
            "('scikit-learn', 'scikit-learn', 'Python', '247 issues\\n            need help', 'scikit-learn: machine learning in Python', '\\n')\n",
            "('blueimp', 'jQuery-File-Upload', 'JavaScript', '29.1k', 'File Upload widget with multiple file selection, drag&drop support, progress bar, validation and preview images, audi…', '\\n')\n",
            "('scrapy', 'scrapy', 'Python', '45 issues\\n            need help', 'Scrapy, a fast high-level web crawling & scraping framework for Python.', '\\n')\n",
            "('aymericdamien', 'TensorFlow-Examples', 'Jupyter Notebook', '24.6k', 'TensorFlow Tutorial and Examples for Beginners with Latest APIs', '\\n')\n",
            "('certbot', 'certbot', 'Python', '19 issues\\n            need help', \"Certbot is EFF's tool to obtain certs from Let's Encrypt and (optionally) auto-enable HTTPS on your server. It can al…\", '\\n')\n",
            "('python', 'cpython', 'Python', '19.5k', 'The Python programming language', '\\n')\n",
            "('pytorch', 'pytorch', 'C++', '7 issues\\n            need help', 'Tensors and Dynamic neural networks in Python with strong GPU acceleration', '\\n')\n",
            "('faif', 'python-patterns', 'Python', '17k', 'A collection of design patterns/idioms in Python', '\\n')\n",
            "('grpc', 'grpc', 'C++', '16.8k', 'The C based gRPC (C++, Python, Ruby, Objective-C, PHP, C#)', '\\n')\n",
            "('ageitgey', 'face_recognition', 'Python', '16.4k', \"The world's simplest facial recognition api for Python and the command line\", '\\n')\n",
            "('tornadoweb', 'tornado', 'Python', '16.4k', 'Tornado is a Python web framework and asynchronous networking library, originally developed at FriendFeed.', '\\n')\n",
            "('home-assistant', 'home-assistant', 'Python', '16.3k', '🏡 Open-source home automation platform running on Python 3', '\\n')\n",
            "('pandas-dev', 'pandas', 'Python', '223 issues\\n            need help', 'Flexible and powerful data analysis / manipulation library for Python, providing labeled data structures similar to R…', '\\n')\n",
            "('CamDavidsonPilon', 'Probabilistic-Programming-and-Bayesian-Methods-for-Hackers', 'Jupyter Notebook', '15.7k', 'aka \"Bayesian Methods for Hackers\": An introduction to Bayesian methods + probabilistic programming with a computatio…', '\\n')\n",
            "('realpython', 'python-guide', 'Batchfile', '15.2k', 'Python best practices guidebook, written for humans.', '\\n')\n",
            "('apache', 'incubator-mxnet', 'C++', '2 issues\\n            need help', 'Lightweight, Portable, Flexible Distributed/Mobile Deep Learning with Dynamic, Mutation-aware Dataflow Dep Scheduler;…', '\\n')\n",
            "('Microsoft', 'CNTK', 'C++', '1 issue\\n            needs help', 'Microsoft Cognitive Toolkit (CNTK), an open source deep-learning toolkit', '\\n')\n",
            "('donnemartin', 'interactive-coding-challenges', 'Python', '14.9k', 'Interactive Python coding interview challenges (algorithms and data structures). Includes Anki flashcards.', '\\n')\n",
            "('reddit-archive', 'reddit', 'Python', '14.6k', 'historical code from reddit.com', '\\n')\n",
            "('wangshub', 'wechat_jump_game', 'Python', '13.9k', '微信《跳一跳》Python 辅助', '\\n')\n",
            "('docker', 'compose', 'Python', '13.7k', 'Define and run multi-container applications with Docker', '\\n')\n",
            "('donnemartin', 'data-science-ipython-notebooks', 'Python', '3 issues\\n            need help', 'Data science Python notebooks: Deep learning (TensorFlow, Theano, Caffe, Keras), scikit-learn, Kaggle, big data (Spar…', '\\n')\n",
            "('dmlc', 'xgboost', 'C++', '13.3k', 'Scalable, Portable and Distributed Gradient Boosting (GBDT, GBRT or GBM) Library, for Python, R, Java, Scala, C++ and…', '\\n')\n",
            "('pypa', 'pipenv', 'Python', '13 issues\\n            need help', 'Python Development Workflow for Humans.', '\\n')\n",
            "('tuvtran', 'project-based-learning', '', '13.2k', 'Curated list of project-based tutorials', '\\n')\n",
            "('ipython', 'ipython', 'Python', '21 issues\\n            need help', 'Official repository for IPython itself. Other repos in the IPython organization contain things like the website, docu…', '\\n')\n",
            "('keon', 'algorithms', 'Python', '5 issues\\n            need help', 'Minimal examples of data structures and algorithms in Python', '\\n')\n",
            "('lukasz-madon', 'awesome-remote-job', '', '3 issues\\n            need help', 'A curated list of awesome remote jobs and resources. Inspired by https://github.com/vinta/awesome-python', '\\n')\n",
            "('pyenv', 'pyenv', 'Shell', '12.3k', 'Simple Python version management', '\\n')\n",
            "('mitmproxy', 'mitmproxy', 'Python', '22 issues\\n            need help', 'An interactive TLS-capable intercepting HTTP proxy for penetration testers and software developers.', '\\n')\n",
            "('sqlmapproject', 'sqlmap', 'Python', '12.2k', 'Automatic SQL injection and database takeover tool', '\\n')\n",
            "('google', 'python-fire', 'Python', '3 issues\\n            need help', 'Python Fire is a library for automatically generating command line interfaces (CLIs) from absolutely any Python object.', '\\n')\n",
            "('binux', 'pyspider', 'Python', '11.9k', 'A Powerful Spider(Web Crawler) System in Python.', '\\n')\n",
            "('nicolargo', 'glances', 'Python', '11.7k', 'Glances an Eye on your system. A top/htop alternative.', '\\n')\n",
            "('SeleniumHQ', 'selenium', 'Java', '11.6k', 'A browser automation framework and ecosystem.', '\\n')\n",
            "('encode', 'django-rest-framework', 'Python', '1 issue\\n            needs help', 'Web APIs for Django. ⚡️', '\\n')\n",
            "('jobbole', 'awesome-python-cn', 'Makefile', '11.5k', 'Python资源大全中文版，包括：Web框架、网络爬虫、模板引擎、数据库、数据可视化、图片处理等，由伯乐在线持续更新。', '\\n')\n",
            "('jakevdp', 'PythonDataScienceHandbook', 'Jupyter Notebook', '11.3k', 'Python Data Science Handbook: full text in Jupyter Notebooks', '\\n')\n"
          ],
          "name": "stdout"
        }
      ]
    }
  ]
}